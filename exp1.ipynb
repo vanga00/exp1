{
 "cells": [
  {
   "cell_type": "code",
   "execution_count": 9,
   "id": "bcf83fcb",
   "metadata": {},
   "outputs": [
    {
     "name": "stdout",
     "output_type": "stream",
     "text": [
      "['Zach', 'Jesse', 'Ursula', 'Ryan', 'Thea']\n",
      "['Jesse', 'Ursula', 'Ryan', 'Thea']\n"
     ]
    }
   ],
   "source": [
    "from collections import defaultdict\n",
    "class Solution:\n",
    "\n",
    "   def __init__(self, head_name):\n",
    "      self.family = defaultdict(list)\n",
    "      self.head = head_name\n",
    "      self.dead = set()\n",
    "\n",
    "   def birth(self, p_name, c_name):\n",
    "      self.family[p_name].append(c_name)\n",
    "\n",
    "   def death(self, name):\n",
    "      self.dead.add(name)\n",
    "\n",
    "   def inheritance(self):\n",
    "      self.ans = []\n",
    "      self.depth_search(self.head)\n",
    "      return self.ans\n",
    "\n",
    "   def depth_search(self, current):\n",
    "      if current not in self.dead:\n",
    "         self.ans.append(current)\n",
    "      for child in self.family[current]:\n",
    "         self.depth_search(child)\n",
    "\n",
    "ob = Solution('Paul')\n",
    "ob.birth('Paul', 'Zach')\n",
    "ob.birth('Paul', 'Jesse')\n",
    "ob.birth('Jesse', 'Ursula')\n",
    "ob.birth('Jesse', 'Ryan')\n",
    "ob.birth('Jesse', 'Thea')\n",
    "ob.death('Paul')\n",
    "print(ob.inheritance())\n",
    "ob.death('Zach')\n",
    "print(ob.inheritance())"
   ]
  }
 ],
 "metadata": {
  "kernelspec": {
   "display_name": "Python 3 (ipykernel)",
   "language": "python",
   "name": "python3"
  },
  "language_info": {
   "codemirror_mode": {
    "name": "ipython",
    "version": 3
   },
   "file_extension": ".py",
   "mimetype": "text/x-python",
   "name": "python",
   "nbconvert_exporter": "python",
   "pygments_lexer": "ipython3",
   "version": "3.11.5"
  }
 },
 "nbformat": 4,
 "nbformat_minor": 5
}
